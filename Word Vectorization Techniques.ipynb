{
 "cells": [
  {
   "cell_type": "code",
   "execution_count": 2,
   "id": "1a4a0c4e",
   "metadata": {
    "ExecuteTime": {
     "end_time": "2023-02-03T23:23:47.533445Z",
     "start_time": "2023-02-03T23:23:47.157029Z"
    }
   },
   "outputs": [
    {
     "data": {
      "text/html": [
       "<style>.container { width:100% !important; }</style>"
      ],
      "text/plain": [
       "<IPython.core.display.HTML object>"
      ]
     },
     "metadata": {},
     "output_type": "display_data"
    },
    {
     "name": "stdout",
     "output_type": "stream",
     "text": [
      "2023-02-03 18:23:47,532 :: [INFO] :: Logger initialized WITHOUT file handler\n"
     ]
    }
   ],
   "source": [
    "from az_common_funcs import *"
   ]
  },
  {
   "cell_type": "markdown",
   "id": "b315e453",
   "metadata": {},
   "source": [
    "Things to Implement:\n",
    "1. Try Different Tokenizers\n",
    "2. TF-IDF Vecorization \n",
    "3. Word2Vec"
   ]
  },
  {
   "cell_type": "code",
   "execution_count": 3,
   "id": "478e5502",
   "metadata": {
    "ExecuteTime": {
     "end_time": "2023-02-03T23:24:07.938378Z",
     "start_time": "2023-02-03T23:24:07.844616Z"
    }
   },
   "outputs": [],
   "source": [
    "with open(\"News_Category_Dataset_v3.json\", mode = \"r\") as f:\n",
    "    data = f.read()"
   ]
  },
  {
   "cell_type": "code",
   "execution_count": 7,
   "id": "12d8c3a8",
   "metadata": {
    "ExecuteTime": {
     "end_time": "2023-02-03T23:28:55.565704Z",
     "start_time": "2023-02-03T23:28:54.274544Z"
    }
   },
   "outputs": [],
   "source": [
    "df = pd.read_json(\"News_Category_Dataset_v3.json\", lines = True)"
   ]
  },
  {
   "cell_type": "code",
   "execution_count": 10,
   "id": "3bbb8176",
   "metadata": {
    "ExecuteTime": {
     "end_time": "2023-02-03T23:32:49.203526Z",
     "start_time": "2023-02-03T23:32:48.917845Z"
    }
   },
   "outputs": [
    {
     "name": "stdout",
     "output_type": "stream",
     "text": [
      "<class 'pandas.core.frame.DataFrame'>\n",
      "RangeIndex: 209527 entries, 0 to 209526\n",
      "Data columns (total 6 columns):\n",
      " #   Column             Non-Null Count   Dtype         \n",
      "---  ------             --------------   -----         \n",
      " 0   link               209527 non-null  object        \n",
      " 1   headline           209527 non-null  object        \n",
      " 2   category           209527 non-null  object        \n",
      " 3   short_description  209527 non-null  object        \n",
      " 4   authors            209527 non-null  object        \n",
      " 5   date               209527 non-null  datetime64[ns]\n",
      "dtypes: datetime64[ns](1), object(5)\n",
      "memory usage: 9.6+ MB\n"
     ]
    },
    {
     "data": {
      "text/html": [
       "<div>\n",
       "<style scoped>\n",
       "    .dataframe tbody tr th:only-of-type {\n",
       "        vertical-align: middle;\n",
       "    }\n",
       "\n",
       "    .dataframe tbody tr th {\n",
       "        vertical-align: top;\n",
       "    }\n",
       "\n",
       "    .dataframe thead th {\n",
       "        text-align: right;\n",
       "    }\n",
       "</style>\n",
       "<table border=\"1\" class=\"dataframe\">\n",
       "  <thead>\n",
       "    <tr style=\"text-align: right;\">\n",
       "      <th></th>\n",
       "      <th>link</th>\n",
       "      <th>headline</th>\n",
       "      <th>category</th>\n",
       "      <th>short_description</th>\n",
       "      <th>authors</th>\n",
       "      <th>date</th>\n",
       "    </tr>\n",
       "  </thead>\n",
       "  <tbody>\n",
       "    <tr>\n",
       "      <th>0</th>\n",
       "      <td>https://www.huffpost.com/entry/covid-boosters-...</td>\n",
       "      <td>Over 4 Million Americans Roll Up Sleeves For O...</td>\n",
       "      <td>U.S. NEWS</td>\n",
       "      <td>Health experts said it is too early to predict...</td>\n",
       "      <td>Carla K. Johnson, AP</td>\n",
       "      <td>2022-09-23</td>\n",
       "    </tr>\n",
       "    <tr>\n",
       "      <th>1</th>\n",
       "      <td>https://www.huffpost.com/entry/american-airlin...</td>\n",
       "      <td>American Airlines Flyer Charged, Banned For Li...</td>\n",
       "      <td>U.S. NEWS</td>\n",
       "      <td>He was subdued by passengers and crew when he ...</td>\n",
       "      <td>Mary Papenfuss</td>\n",
       "      <td>2022-09-23</td>\n",
       "    </tr>\n",
       "    <tr>\n",
       "      <th>2</th>\n",
       "      <td>https://www.huffpost.com/entry/funniest-tweets...</td>\n",
       "      <td>23 Of The Funniest Tweets About Cats And Dogs ...</td>\n",
       "      <td>COMEDY</td>\n",
       "      <td>\"Until you have a dog you don't understand wha...</td>\n",
       "      <td>Elyse Wanshel</td>\n",
       "      <td>2022-09-23</td>\n",
       "    </tr>\n",
       "    <tr>\n",
       "      <th>3</th>\n",
       "      <td>https://www.huffpost.com/entry/funniest-parent...</td>\n",
       "      <td>The Funniest Tweets From Parents This Week (Se...</td>\n",
       "      <td>PARENTING</td>\n",
       "      <td>\"Accidentally put grown-up toothpaste on my to...</td>\n",
       "      <td>Caroline Bologna</td>\n",
       "      <td>2022-09-23</td>\n",
       "    </tr>\n",
       "    <tr>\n",
       "      <th>4</th>\n",
       "      <td>https://www.huffpost.com/entry/amy-cooper-lose...</td>\n",
       "      <td>Woman Who Called Cops On Black Bird-Watcher Lo...</td>\n",
       "      <td>U.S. NEWS</td>\n",
       "      <td>Amy Cooper accused investment firm Franklin Te...</td>\n",
       "      <td>Nina Golgowski</td>\n",
       "      <td>2022-09-22</td>\n",
       "    </tr>\n",
       "  </tbody>\n",
       "</table>\n",
       "</div>"
      ],
      "text/plain": [
       "                                                link  \\\n",
       "0  https://www.huffpost.com/entry/covid-boosters-...   \n",
       "1  https://www.huffpost.com/entry/american-airlin...   \n",
       "2  https://www.huffpost.com/entry/funniest-tweets...   \n",
       "3  https://www.huffpost.com/entry/funniest-parent...   \n",
       "4  https://www.huffpost.com/entry/amy-cooper-lose...   \n",
       "\n",
       "                                            headline   category  \\\n",
       "0  Over 4 Million Americans Roll Up Sleeves For O...  U.S. NEWS   \n",
       "1  American Airlines Flyer Charged, Banned For Li...  U.S. NEWS   \n",
       "2  23 Of The Funniest Tweets About Cats And Dogs ...     COMEDY   \n",
       "3  The Funniest Tweets From Parents This Week (Se...  PARENTING   \n",
       "4  Woman Who Called Cops On Black Bird-Watcher Lo...  U.S. NEWS   \n",
       "\n",
       "                                   short_description               authors  \\\n",
       "0  Health experts said it is too early to predict...  Carla K. Johnson, AP   \n",
       "1  He was subdued by passengers and crew when he ...        Mary Papenfuss   \n",
       "2  \"Until you have a dog you don't understand wha...         Elyse Wanshel   \n",
       "3  \"Accidentally put grown-up toothpaste on my to...      Caroline Bologna   \n",
       "4  Amy Cooper accused investment firm Franklin Te...        Nina Golgowski   \n",
       "\n",
       "        date  \n",
       "0 2022-09-23  \n",
       "1 2022-09-23  \n",
       "2 2022-09-23  \n",
       "3 2022-09-23  \n",
       "4 2022-09-22  "
      ]
     },
     "execution_count": 10,
     "metadata": {},
     "output_type": "execute_result"
    }
   ],
   "source": [
    "df.info()\n",
    "df.head()"
   ]
  },
  {
   "cell_type": "code",
   "execution_count": 11,
   "id": "e395ee6b",
   "metadata": {
    "ExecuteTime": {
     "end_time": "2023-02-03T23:33:57.323585Z",
     "start_time": "2023-02-03T23:33:57.289887Z"
    }
   },
   "outputs": [
    {
     "data": {
      "text/plain": [
       "(Timestamp('2022-09-23 00:00:00'), Timestamp('2012-01-28 00:00:00'))"
      ]
     },
     "execution_count": 11,
     "metadata": {},
     "output_type": "execute_result"
    }
   ],
   "source": [
    "df.date.max(), df.date.min()"
   ]
  },
  {
   "cell_type": "code",
   "execution_count": 9,
   "id": "dc829870",
   "metadata": {
    "ExecuteTime": {
     "end_time": "2023-02-03T23:29:18.096972Z",
     "start_time": "2023-02-03T23:29:17.949141Z"
    }
   },
   "outputs": [
    {
     "data": {
      "text/plain": [
       "POLITICS          35602\n",
       "WELLNESS          17945\n",
       "ENTERTAINMENT     17362\n",
       "TRAVEL             9900\n",
       "STYLE & BEAUTY     9814\n",
       "PARENTING          8791\n",
       "HEALTHY LIVING     6694\n",
       "QUEER VOICES       6347\n",
       "FOOD & DRINK       6340\n",
       "BUSINESS           5992\n",
       "COMEDY             5400\n",
       "SPORTS             5077\n",
       "BLACK VOICES       4583\n",
       "HOME & LIVING      4320\n",
       "PARENTS            3955\n",
       "THE WORLDPOST      3664\n",
       "WEDDINGS           3653\n",
       "WOMEN              3572\n",
       "CRIME              3562\n",
       "IMPACT             3484\n",
       "DIVORCE            3426\n",
       "WORLD NEWS         3299\n",
       "MEDIA              2944\n",
       "WEIRD NEWS         2777\n",
       "GREEN              2622\n",
       "WORLDPOST          2579\n",
       "RELIGION           2577\n",
       "STYLE              2254\n",
       "SCIENCE            2206\n",
       "TECH               2104\n",
       "TASTE              2096\n",
       "MONEY              1756\n",
       "ARTS               1509\n",
       "ENVIRONMENT        1444\n",
       "FIFTY              1401\n",
       "GOOD NEWS          1398\n",
       "U.S. NEWS          1377\n",
       "ARTS & CULTURE     1339\n",
       "COLLEGE            1144\n",
       "LATINO VOICES      1130\n",
       "CULTURE & ARTS     1074\n",
       "EDUCATION          1014\n",
       "Name: category, dtype: int64"
      ]
     },
     "execution_count": 9,
     "metadata": {},
     "output_type": "execute_result"
    }
   ],
   "source": [
    "df.category.value_counts()"
   ]
  },
  {
   "cell_type": "markdown",
   "id": "fe1bd66a",
   "metadata": {},
   "source": [
    "Lets take 5 categories and 5000 rows for each\n",
    "1. POLITICS\n",
    "1. SPORTS\n",
    "1. TRAVEL\n",
    "1. ENTERTAINMENT\n",
    "1. BUSINESS"
   ]
  },
  {
   "cell_type": "code",
   "execution_count": 12,
   "id": "e55cfa1f",
   "metadata": {
    "ExecuteTime": {
     "end_time": "2023-02-03T23:36:36.886121Z",
     "start_time": "2023-02-03T23:36:36.631822Z"
    }
   },
   "outputs": [],
   "source": [
    "df_politics = df[df.category == \"POLITICS\"].reset_index(drop = True)\n",
    "df_sports = df[df.category == \"SPORTS\"].reset_index(drop = True)\n",
    "df_travel = df[df.category == \"TRAVEL\"].reset_index(drop = True)\n",
    "df_entertainment = df[df.category == \"ENTERTAINMENT\"].reset_index(drop = True)\n",
    "df_business = df[df.category == \"BUSINESS\"].reset_index(drop = True)"
   ]
  },
  {
   "cell_type": "code",
   "execution_count": null,
   "id": "9c11e3fd",
   "metadata": {},
   "outputs": [],
   "source": [
    "df.politics.head()"
   ]
  },
  {
   "cell_type": "code",
   "execution_count": 13,
   "id": "fe471993",
   "metadata": {
    "ExecuteTime": {
     "end_time": "2023-02-03T23:38:50.948559Z",
     "start_time": "2023-02-03T23:38:50.942638Z"
    }
   },
   "outputs": [],
   "source": [
    "import random"
   ]
  },
  {
   "cell_type": "code",
   "execution_count": 53,
   "id": "c8bface9",
   "metadata": {
    "ExecuteTime": {
     "end_time": "2023-02-03T23:47:20.395163Z",
     "start_time": "2023-02-03T23:47:19.949509Z"
    }
   },
   "outputs": [],
   "source": [
    "df_list = []\n",
    "random.seed(123456)\n",
    "for df_temp in [df_politics,df_sports,df_travel,df_entertainment,df_business]:\n",
    "    r = random.sample(range(df_temp.shape[0]), 5000)\n",
    "    df_temp = df_temp.copy()\n",
    "    df_temp = df_temp.iloc[r]\n",
    "    df_list.append(df_temp.copy())"
   ]
  },
  {
   "cell_type": "code",
   "execution_count": 57,
   "id": "7aaaaf54",
   "metadata": {
    "ExecuteTime": {
     "end_time": "2023-02-03T23:48:27.332965Z",
     "start_time": "2023-02-03T23:48:27.202663Z"
    }
   },
   "outputs": [],
   "source": [
    "df = pd.concat(df_list,ignore_index = True)"
   ]
  },
  {
   "cell_type": "code",
   "execution_count": 59,
   "id": "492b3be3",
   "metadata": {
    "ExecuteTime": {
     "end_time": "2023-02-03T23:49:29.295515Z",
     "start_time": "2023-02-03T23:49:29.191307Z"
    }
   },
   "outputs": [],
   "source": [
    "df = df[[\"short_description\", \"category\"]]"
   ]
  },
  {
   "cell_type": "markdown",
   "id": "a62eb75e",
   "metadata": {
    "ExecuteTime": {
     "end_time": "2023-02-03T23:49:31.756532Z",
     "start_time": "2023-02-03T23:49:31.735166Z"
    }
   },
   "source": [
    "Idea now is to vectorize the short descriptions and evaluate the embedding that are generated\n",
    "Things to consider:\n",
    "1. Weather to use tokenization or not. If Yes, what type of embedding \n",
    "2. Weather to remove stop words \n",
    "3. How to select top words or tokens to represents the final vector"
   ]
  },
  {
   "cell_type": "markdown",
   "id": "4aaec7c7",
   "metadata": {},
   "source": [
    "### Not using tokenization"
   ]
  },
  {
   "cell_type": "code",
   "execution_count": 72,
   "id": "418562b5",
   "metadata": {
    "ExecuteTime": {
     "end_time": "2023-02-04T00:09:59.047257Z",
     "start_time": "2023-02-04T00:09:58.902318Z"
    }
   },
   "outputs": [
    {
     "name": "stderr",
     "output_type": "stream",
     "text": [
      "/var/folders/ks/n4l31g9x3sj3y5jnydv95pyw0000gn/T/ipykernel_94554/4067732281.py:1: SettingWithCopyWarning: \n",
      "A value is trying to be set on a copy of a slice from a DataFrame.\n",
      "Try using .loc[row_indexer,col_indexer] = value instead\n",
      "\n",
      "See the caveats in the documentation: https://pandas.pydata.org/pandas-docs/stable/user_guide/indexing.html#returning-a-view-versus-a-copy\n",
      "  df.loc[:,\"short_description_lc\"] = df.short_description.str.lower()\n"
     ]
    }
   ],
   "source": [
    "df.loc[:,\"short_description_lc\"] = df.short_description.str.lower()"
   ]
  },
  {
   "cell_type": "code",
   "execution_count": 95,
   "id": "c7181f11",
   "metadata": {
    "ExecuteTime": {
     "end_time": "2023-02-04T01:21:45.559984Z",
     "start_time": "2023-02-04T01:21:45.554172Z"
    }
   },
   "outputs": [],
   "source": [
    "import re"
   ]
  },
  {
   "cell_type": "code",
   "execution_count": 127,
   "id": "8e8cc3bb",
   "metadata": {
    "ExecuteTime": {
     "end_time": "2023-02-04T01:37:56.859601Z",
     "start_time": "2023-02-04T01:37:56.850743Z"
    }
   },
   "outputs": [
    {
     "data": {
      "text/plain": [
       "'aadil my is name'"
      ]
     },
     "execution_count": 127,
     "metadata": {},
     "output_type": "execute_result"
    }
   ],
   "source": [
    "sent = \"Aadil !!my is name.\"\n",
    "pat = r\"(?u)\\b\\w\\w+\\b\"\n",
    "def remove_punctuation(string):\n",
    "#     return re.findall(pat,string.lower())\n",
    "    return \" \".join(re.findall(pat,string.lower()))\n",
    "remove_punctuation(sent)"
   ]
  },
  {
   "cell_type": "code",
   "execution_count": 63,
   "id": "a9282afc",
   "metadata": {
    "ExecuteTime": {
     "end_time": "2023-02-04T00:04:43.065206Z",
     "start_time": "2023-02-04T00:04:43.055375Z"
    }
   },
   "outputs": [],
   "source": [
    "from sklearn.feature_extraction.text import TfidfVectorizer"
   ]
  },
  {
   "cell_type": "code",
   "execution_count": 65,
   "id": "558dcd40",
   "metadata": {
    "ExecuteTime": {
     "end_time": "2023-02-04T00:07:36.828422Z",
     "start_time": "2023-02-04T00:07:36.817573Z"
    }
   },
   "outputs": [],
   "source": [
    "t_vec = TfidfVectorizer(input = \"content\")"
   ]
  },
  {
   "cell_type": "code",
   "execution_count": 74,
   "id": "2c64e973",
   "metadata": {
    "ExecuteTime": {
     "end_time": "2023-02-04T00:10:31.381034Z",
     "start_time": "2023-02-04T00:10:30.923731Z"
    }
   },
   "outputs": [
    {
     "data": {
      "text/plain": [
       "TfidfVectorizer()"
      ]
     },
     "execution_count": 74,
     "metadata": {},
     "output_type": "execute_result"
    }
   ],
   "source": [
    "t_vec.fit(df.short_description_lc)"
   ]
  },
  {
   "cell_type": "code",
   "execution_count": 89,
   "id": "e5ac2f45",
   "metadata": {
    "ExecuteTime": {
     "end_time": "2023-02-04T00:15:49.676964Z",
     "start_time": "2023-02-04T00:15:49.661223Z"
    }
   },
   "outputs": [
    {
     "data": {
      "text/plain": [
       "(1, 29277)"
      ]
     },
     "execution_count": 89,
     "metadata": {},
     "output_type": "execute_result"
    }
   ],
   "source": [
    "t_vec.transform([\"few think trump was right to fire comey.\"]).toarray().shape"
   ]
  },
  {
   "cell_type": "code",
   "execution_count": 81,
   "id": "670d1972",
   "metadata": {
    "ExecuteTime": {
     "end_time": "2023-02-04T00:12:26.409414Z",
     "start_time": "2023-02-04T00:12:26.371634Z"
    }
   },
   "outputs": [
    {
     "data": {
      "text/plain": [
       "'few think trump was right to fire comey.'"
      ]
     },
     "execution_count": 81,
     "metadata": {},
     "output_type": "execute_result"
    }
   ],
   "source": [
    "df.iloc[2,2]"
   ]
  },
  {
   "cell_type": "code",
   "execution_count": 93,
   "id": "7f60ecc5",
   "metadata": {
    "ExecuteTime": {
     "end_time": "2023-02-04T00:19:07.194149Z",
     "start_time": "2023-02-04T00:19:07.161280Z"
    }
   },
   "outputs": [
    {
     "data": {
      "text/plain": [
       "(29277,)"
      ]
     },
     "execution_count": 93,
     "metadata": {},
     "output_type": "execute_result"
    }
   ],
   "source": [
    "t_vec.get_feature_names_out().shape"
   ]
  },
  {
   "cell_type": "code",
   "execution_count": 133,
   "id": "e8e2bee4",
   "metadata": {
    "ExecuteTime": {
     "end_time": "2023-02-04T15:29:08.571718Z",
     "start_time": "2023-02-04T15:28:20.119808Z"
    }
   },
   "outputs": [],
   "source": [
    "df_tfidf = pd.DataFrame(t_vec.transform(df_short_description_lc).toarray()).add_prefix(\"tfidf_feature_\")"
   ]
  },
  {
   "cell_type": "code",
   "execution_count": null,
   "id": "53d55df5",
   "metadata": {
    "ExecuteTime": {
     "start_time": "2023-02-04T15:34:18.910Z"
    }
   },
   "outputs": [],
   "source": [
    "pd.concat([df,df_tfidf], axis=1).head()"
   ]
  },
  {
   "cell_type": "code",
   "execution_count": null,
   "id": "ca979ee8",
   "metadata": {},
   "outputs": [],
   "source": [
    "import torch\n",
    "from torchvision import datasets\n",
    "from torchvision import transforms"
   ]
  },
  {
   "cell_type": "code",
   "execution_count": null,
   "id": "e9628516",
   "metadata": {},
   "outputs": [],
   "source": []
  },
  {
   "cell_type": "code",
   "execution_count": null,
   "id": "6215625f",
   "metadata": {},
   "outputs": [],
   "source": []
  }
 ],
 "metadata": {
  "kernelspec": {
   "display_name": "Python 3 (ipykernel)",
   "language": "python",
   "name": "python3"
  },
  "language_info": {
   "codemirror_mode": {
    "name": "ipython",
    "version": 3
   },
   "file_extension": ".py",
   "mimetype": "text/x-python",
   "name": "python",
   "nbconvert_exporter": "python",
   "pygments_lexer": "ipython3",
   "version": "3.9.12"
  },
  "varInspector": {
   "cols": {
    "lenName": 16,
    "lenType": 16,
    "lenVar": 40
   },
   "kernels_config": {
    "python": {
     "delete_cmd_postfix": "",
     "delete_cmd_prefix": "del ",
     "library": "var_list.py",
     "varRefreshCmd": "print(var_dic_list())"
    },
    "r": {
     "delete_cmd_postfix": ") ",
     "delete_cmd_prefix": "rm(",
     "library": "var_list.r",
     "varRefreshCmd": "cat(var_dic_list()) "
    }
   },
   "types_to_exclude": [
    "module",
    "function",
    "builtin_function_or_method",
    "instance",
    "_Feature"
   ],
   "window_display": false
  }
 },
 "nbformat": 4,
 "nbformat_minor": 5
}
